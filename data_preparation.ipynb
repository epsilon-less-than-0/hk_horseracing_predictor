{
 "cells": [
  {
   "cell_type": "code",
   "execution_count": null,
   "id": "e8b2904a",
   "metadata": {
    "vscode": {
     "languageId": "plaintext"
    }
   },
   "outputs": [],
   "source": [
    "import pandas as pd\n",
    "import numpy as np\n",
    "import matplotlib.pyplot as plt\n",
    "import glob\n",
    "import csv,json, re,os"
   ]
  },
  {
   "cell_type": "code",
   "execution_count": null,
   "id": "e1e5db42",
   "metadata": {
    "vscode": {
     "languageId": "plaintext"
    }
   },
   "outputs": [],
   "source": [
    "import data_prep"
   ]
  },
  {
   "cell_type": "code",
   "execution_count": null,
   "id": "2ab2f979",
   "metadata": {
    "vscode": {
     "languageId": "plaintext"
    }
   },
   "outputs": [],
   "source": [
    "df = data_prep.main()"
   ]
  },
  {
   "cell_type": "code",
   "execution_count": null,
   "id": "926f321c",
   "metadata": {
    "vscode": {
     "languageId": "plaintext"
    }
   },
   "outputs": [],
   "source": [
    "print(df.head())"
   ]
  }
 ],
 "metadata": {
  "language_info": {
   "name": "python"
  }
 },
 "nbformat": 4,
 "nbformat_minor": 5
}
